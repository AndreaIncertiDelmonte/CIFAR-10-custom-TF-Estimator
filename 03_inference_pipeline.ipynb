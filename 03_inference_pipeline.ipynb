{
 "cells": [
  {
   "cell_type": "markdown",
   "metadata": {},
   "source": [
    "# CIFAR-10 Inference pipeline\n",
    "Author: **Andrea Incerti Delmonte**\n",
    "\n",
    "Email: ** andrea.incertidelmonte@gmail.com**\n",
    "\n",
    "This inference pipeline is based on TF Estimator https://www.tensorflow.org/get_started/custom_estimators\n",
    "1. Load CIFAR-10 metadata\n",
    "2. Load CIFAR-10 test data\n",
    "3. Load exported predictor\n",
    "4. Apply inference on test data"
   ]
  },
  {
   "cell_type": "code",
   "execution_count": null,
   "metadata": {},
   "outputs": [],
   "source": [
    "import tensorflow as tf\n",
    "import os\n",
    "import cPickle\n",
    "import numpy as np\n",
    "import matplotlib.pyplot as plt\n",
    "# Visualizations will be shown in the notebook.\n",
    "%matplotlib inline\n",
    "import random"
   ]
  },
  {
   "cell_type": "code",
   "execution_count": null,
   "metadata": {},
   "outputs": [],
   "source": [
    "CIFAR10_LOCAL_FOLDER = \"./cifar-10_dataset/cifar-10-batches-py\"\n",
    "IMG_HEIGHT = 32\n",
    "IMG_WIDTH = 32\n",
    "IMG_CHANNELS = 3\n",
    "\n",
    "###############################\n",
    "#                             #\n",
    "# Choose which model to train #\n",
    "#                             #\n",
    "###############################\n",
    "\n",
    "# LeNet\n",
    "TRAINED_MODEL_EXPORT_DIR = \"./trained_models/lenet/export/exported-lenet\"\n",
    "\n",
    "# DeepLeNet\n",
    "#TRAINED_MODEL_EXPORT_DIR = \"./trained_models/deep-lenet/export/exported-deep-lenet\""
   ]
  },
  {
   "cell_type": "markdown",
   "metadata": {},
   "source": [
    "## 1. Load CIFAR-10 metadata"
   ]
  },
  {
   "cell_type": "code",
   "execution_count": null,
   "metadata": {},
   "outputs": [],
   "source": [
    "metadata_f = open(os.path.join(CIFAR10_LOCAL_FOLDER, \"batches.meta\"), \"rb\")\n",
    "metadata_dict = cPickle.load(metadata_f)\n",
    "labels_LUT = metadata_dict[\"label_names\"]\n",
    "for index, value in enumerate(labels_LUT):\n",
    "    print(\"Label {} = {}\".format(index,value))"
   ]
  },
  {
   "cell_type": "markdown",
   "metadata": {},
   "source": [
    "## 2. Load CIFAR-10 test data"
   ]
  },
  {
   "cell_type": "code",
   "execution_count": null,
   "metadata": {},
   "outputs": [],
   "source": [
    "test_f = open(os.path.join(CIFAR10_LOCAL_FOLDER, \"test_batch\"), \"rb\")\n",
    "test_dict = cPickle.load(test_f)\n",
    "test_images = test_dict['data']\n",
    "test_labels = np.asarray(test_dict['labels'])\n",
    "    \n",
    "print(\"test_images.shape {}\".format(test_images.shape))\n",
    "print(\"test_labels.shape {}\".format(test_labels.shape))"
   ]
  },
  {
   "cell_type": "markdown",
   "metadata": {},
   "source": [
    "## 3. Load exported predictor"
   ]
  },
  {
   "cell_type": "code",
   "execution_count": null,
   "metadata": {},
   "outputs": [],
   "source": [
    "# Pick last exported version of the model\n",
    "saved_model_dir = os.path.join(TRAINED_MODEL_EXPORT_DIR, os.listdir(TRAINED_MODEL_EXPORT_DIR)[-1]) \n",
    "\n",
    "predictor_fn = tf.contrib.predictor.from_saved_model(\n",
    "    export_dir = saved_model_dir,\n",
    "    signature_def_key='predictions'\n",
    ")"
   ]
  },
  {
   "cell_type": "markdown",
   "metadata": {},
   "source": [
    "## 4. Apply inference on test data"
   ]
  },
  {
   "cell_type": "code",
   "execution_count": null,
   "metadata": {},
   "outputs": [],
   "source": [
    "def plot_image(image, label, predicted_label):\n",
    "    image = image\n",
    "    plt.imshow(image)\n",
    "    plt.title(\"Image index {}, label {}, predicted label {}\".format(index, labels_LUT[label], labels_LUT[predicted_label]))\n",
    "    plt.show()"
   ]
  },
  {
   "cell_type": "markdown",
   "metadata": {},
   "source": [
    "### 4.1 Plot wrong predictions"
   ]
  },
  {
   "cell_type": "code",
   "execution_count": null,
   "metadata": {},
   "outputs": [],
   "source": [
    "for i in range(10):\n",
    "    index = random.randint(0, test_images.shape[0])\n",
    "    \n",
    "    image = test_images[index].reshape([1, IMG_CHANNELS, IMG_HEIGHT, IMG_WIDTH]).transpose([0, 2, 3, 1])\n",
    "    label = test_labels[index]\n",
    "    \n",
    "    output = predictor_fn({'images': image})\n",
    "    predicted_label = np.argmax(output['probabilities'])\n",
    "    \n",
    "    if predicted_label != label:\n",
    "        print(index)\n",
    "        print(label, labels_LUT[label])\n",
    "        print(predicted_label, labels_LUT[predicted_label])\n",
    "        plot_image(image[0], label, predicted_label)    "
   ]
  },
  {
   "cell_type": "markdown",
   "metadata": {},
   "source": [
    "### 4.1 Compute accuracy"
   ]
  },
  {
   "cell_type": "code",
   "execution_count": null,
   "metadata": {},
   "outputs": [],
   "source": [
    "samples = 1000\n",
    "\n",
    "output = predictor_fn({\n",
    "    'images': test_images[:samples].reshape([samples, IMG_CHANNELS, IMG_HEIGHT, IMG_WIDTH]).transpose([0, 2, 3, 1])\n",
    "})\n",
    "\n",
    "correct_predictions = np.sum([label==predicted_label for label, predicted_label in zip(test_labels, output['class_ids'])])\n",
    "accuracy = correct_predictions / float(samples)\n",
    "\n",
    "print(\"Accuracy on {} test samples: {}\".format(samples, accuracy))"
   ]
  },
  {
   "cell_type": "code",
   "execution_count": null,
   "metadata": {},
   "outputs": [],
   "source": []
  }
 ],
 "metadata": {
  "kernelspec": {
   "display_name": "tensorflow_27",
   "language": "python",
   "name": "tensorflow_27"
  },
  "language_info": {
   "codemirror_mode": {
    "name": "ipython",
    "version": 2
   },
   "file_extension": ".py",
   "mimetype": "text/x-python",
   "name": "python",
   "nbconvert_exporter": "python",
   "pygments_lexer": "ipython2",
   "version": "2.7.12"
  }
 },
 "nbformat": 4,
 "nbformat_minor": 2
}
